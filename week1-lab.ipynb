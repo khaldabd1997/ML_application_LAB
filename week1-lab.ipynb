{
 "cells": [
  {
   "cell_type": "code",
   "execution_count": 2,
   "metadata": {
    "_cell_guid": "b1076dfc-b9ad-4769-8c92-a6c4dae69d19",
    "_uuid": "8f2839f25d086af736a60e9eeb907d3b93b6e0e5",
    "execution": {
     "iopub.execute_input": "2024-03-02T07:32:24.172973Z",
     "iopub.status.busy": "2024-03-02T07:32:24.171935Z",
     "iopub.status.idle": "2024-03-02T07:32:24.182992Z",
     "shell.execute_reply": "2024-03-02T07:32:24.181622Z",
     "shell.execute_reply.started": "2024-03-02T07:32:24.172924Z"
    }
   },
   "outputs": [
    {
     "name": "stdout",
     "output_type": "stream",
     "text": [
      "20\n",
      "30\n",
      "pazar\n"
     ]
    },
    {
     "data": {
      "text/plain": [
       "str"
      ]
     },
     "execution_count": 2,
     "metadata": {},
     "output_type": "execute_result"
    }
   ],
   "source": [
    "var = 20\n",
    "var2 = 30\n",
    "gun = \"pazar\"\n",
    "print(var)\n",
    "print(var2)\n",
    "print(gun)\n",
    "type(var)\n",
    "type(gun)"
   ]
  },
  {
   "cell_type": "code",
   "execution_count": 7,
   "metadata": {
    "execution": {
     "iopub.execute_input": "2024-03-02T07:32:24.185958Z",
     "iopub.status.busy": "2024-03-02T07:32:24.185230Z",
     "iopub.status.idle": "2024-03-02T07:32:24.198572Z",
     "shell.execute_reply": "2024-03-02T07:32:24.197257Z",
     "shell.execute_reply.started": "2024-03-02T07:32:24.185917Z"
    }
   },
   "outputs": [
    {
     "data": {
      "text/plain": [
       "list"
      ]
     },
     "execution_count": 7,
     "metadata": {},
     "output_type": "execute_result"
    }
   ],
   "source": [
    "#List\n",
    "\n",
    "var1 = 10\n",
    "var2 = 20\n",
    "var3 = 30\n",
    "list_int = [10,20,30,40]\n",
    "type(list_int)"
   ]
  },
  {
   "cell_type": "code",
   "execution_count": 8,
   "metadata": {
    "execution": {
     "iopub.execute_input": "2024-03-02T07:32:24.201977Z",
     "iopub.status.busy": "2024-03-02T07:32:24.200219Z",
     "iopub.status.idle": "2024-03-02T07:32:24.215053Z",
     "shell.execute_reply": "2024-03-02T07:32:24.213642Z",
     "shell.execute_reply.started": "2024-03-02T07:32:24.201930Z"
    }
   },
   "outputs": [
    {
     "data": {
      "text/plain": [
       "10"
      ]
     },
     "execution_count": 8,
     "metadata": {},
     "output_type": "execute_result"
    }
   ],
   "source": [
    "list_int[0]"
   ]
  },
  {
   "cell_type": "code",
   "execution_count": 9,
   "metadata": {
    "execution": {
     "iopub.execute_input": "2024-03-02T07:32:24.219706Z",
     "iopub.status.busy": "2024-03-02T07:32:24.219301Z",
     "iopub.status.idle": "2024-03-02T07:32:24.229438Z",
     "shell.execute_reply": "2024-03-02T07:32:24.228251Z",
     "shell.execute_reply.started": "2024-03-02T07:32:24.219672Z"
    }
   },
   "outputs": [
    {
     "data": {
      "text/plain": [
       "40"
      ]
     },
     "execution_count": 9,
     "metadata": {},
     "output_type": "execute_result"
    }
   ],
   "source": [
    "#Last element of the list\n",
    "list_int[-1]"
   ]
  },
  {
   "cell_type": "code",
   "execution_count": 11,
   "metadata": {
    "execution": {
     "iopub.execute_input": "2024-03-02T07:32:24.231072Z",
     "iopub.status.busy": "2024-03-02T07:32:24.230535Z",
     "iopub.status.idle": "2024-03-02T07:32:24.244981Z",
     "shell.execute_reply": "2024-03-02T07:32:24.243572Z",
     "shell.execute_reply.started": "2024-03-02T07:32:24.231043Z"
    }
   },
   "outputs": [
    {
     "data": {
      "text/plain": [
       "[10, 20, 30]"
      ]
     },
     "execution_count": 11,
     "metadata": {},
     "output_type": "execute_result"
    }
   ],
   "source": [
    "# element from index 0 first 3\n",
    "list_int[0:3]"
   ]
  },
  {
   "cell_type": "code",
   "execution_count": 23,
   "metadata": {
    "execution": {
     "iopub.execute_input": "2024-03-02T07:32:24.247056Z",
     "iopub.status.busy": "2024-03-02T07:32:24.246708Z",
     "iopub.status.idle": "2024-03-02T07:32:24.256987Z",
     "shell.execute_reply": "2024-03-02T07:32:24.255670Z",
     "shell.execute_reply.started": "2024-03-02T07:32:24.247028Z"
    }
   },
   "outputs": [
    {
     "name": "stdout",
     "output_type": "stream",
     "text": [
      "[10, 20, 40, 30]\n"
     ]
    }
   ],
   "source": [
    "#add at list \n",
    "list_int.append(30)\n",
    "print(list_int)"
   ]
  },
  {
   "cell_type": "code",
   "execution_count": 24,
   "metadata": {
    "execution": {
     "iopub.execute_input": "2024-03-02T07:32:24.258997Z",
     "iopub.status.busy": "2024-03-02T07:32:24.258645Z",
     "iopub.status.idle": "2024-03-02T07:32:24.270073Z",
     "shell.execute_reply": "2024-03-02T07:32:24.268683Z",
     "shell.execute_reply.started": "2024-03-02T07:32:24.258968Z"
    }
   },
   "outputs": [],
   "source": [
    "list_int.remove(30)"
   ]
  },
  {
   "cell_type": "code",
   "execution_count": 25,
   "metadata": {
    "execution": {
     "iopub.execute_input": "2024-03-02T07:32:24.271777Z",
     "iopub.status.busy": "2024-03-02T07:32:24.271434Z",
     "iopub.status.idle": "2024-03-02T07:32:24.285072Z",
     "shell.execute_reply": "2024-03-02T07:32:24.283234Z",
     "shell.execute_reply.started": "2024-03-02T07:32:24.271751Z"
    }
   },
   "outputs": [
    {
     "name": "stdout",
     "output_type": "stream",
     "text": [
      "[10, 20, 40]\n"
     ]
    }
   ],
   "source": [
    "print(list_int)"
   ]
  },
  {
   "cell_type": "code",
   "execution_count": 26,
   "metadata": {
    "execution": {
     "iopub.execute_input": "2024-03-02T07:32:24.287320Z",
     "iopub.status.busy": "2024-03-02T07:32:24.286735Z",
     "iopub.status.idle": "2024-03-02T07:32:24.297289Z",
     "shell.execute_reply": "2024-03-02T07:32:24.296378Z",
     "shell.execute_reply.started": "2024-03-02T07:32:24.287289Z"
    }
   },
   "outputs": [
    {
     "name": "stdout",
     "output_type": "stream",
     "text": [
      "[40, 20, 10]\n"
     ]
    }
   ],
   "source": [
    "list_int.reverse()\n",
    "print(list_int)"
   ]
  },
  {
   "cell_type": "code",
   "execution_count": 27,
   "metadata": {
    "execution": {
     "iopub.execute_input": "2024-03-02T07:32:24.302368Z",
     "iopub.status.busy": "2024-03-02T07:32:24.301965Z",
     "iopub.status.idle": "2024-03-02T07:32:24.310781Z",
     "shell.execute_reply": "2024-03-02T07:32:24.309502Z",
     "shell.execute_reply.started": "2024-03-02T07:32:24.302338Z"
    }
   },
   "outputs": [
    {
     "name": "stdout",
     "output_type": "stream",
     "text": [
      "[10, 20, 40]\n"
     ]
    }
   ],
   "source": [
    "list_int.sort()\n",
    "print(list_int)"
   ]
  },
  {
   "cell_type": "code",
   "execution_count": 28,
   "metadata": {
    "execution": {
     "iopub.execute_input": "2024-03-02T07:32:24.312678Z",
     "iopub.status.busy": "2024-03-02T07:32:24.312297Z",
     "iopub.status.idle": "2024-03-02T07:32:24.324195Z",
     "shell.execute_reply": "2024-03-02T07:32:24.322964Z",
     "shell.execute_reply.started": "2024-03-02T07:32:24.312646Z"
    }
   },
   "outputs": [
    {
     "name": "stdout",
     "output_type": "stream",
     "text": [
      "40\n"
     ]
    }
   ],
   "source": [
    "max = 10\n",
    "for each in list_int:\n",
    "    if(each > max ):\n",
    "        max = each\n",
    "    else:\n",
    "        continue\n",
    "        \n",
    "print(max)       "
   ]
  },
  {
   "cell_type": "code",
   "execution_count": 29,
   "metadata": {
    "execution": {
     "iopub.execute_input": "2024-03-02T07:32:24.326698Z",
     "iopub.status.busy": "2024-03-02T07:32:24.325833Z",
     "iopub.status.idle": "2024-03-02T07:32:24.337050Z",
     "shell.execute_reply": "2024-03-02T07:32:24.335955Z",
     "shell.execute_reply.started": "2024-03-02T07:32:24.326664Z"
    }
   },
   "outputs": [
    {
     "name": "stdout",
     "output_type": "stream",
     "text": [
      "0\n",
      "1\n",
      "2\n",
      "3\n",
      "4\n"
     ]
    }
   ],
   "source": [
    "i = 0\n",
    "while(i<5):\n",
    "    print(i)\n",
    "    i = i + 1"
   ]
  },
  {
   "cell_type": "code",
   "execution_count": 30,
   "metadata": {
    "execution": {
     "iopub.execute_input": "2024-03-02T07:32:24.339171Z",
     "iopub.status.busy": "2024-03-02T07:32:24.338856Z",
     "iopub.status.idle": "2024-03-02T07:32:24.350040Z",
     "shell.execute_reply": "2024-03-02T07:32:24.349099Z",
     "shell.execute_reply.started": "2024-03-02T07:32:24.339145Z"
    }
   },
   "outputs": [
    {
     "data": {
      "text/plain": [
       "12.56"
      ]
     },
     "execution_count": 30,
     "metadata": {},
     "output_type": "execute_result"
    }
   ],
   "source": [
    "def cember_cevre(r,pi=3.14): # Pi is a default value\n",
    "    result = 2*pi*r\n",
    "    return result\n",
    "\n",
    "cember_cevre(2)\n",
    "    "
   ]
  },
  {
   "cell_type": "code",
   "execution_count": 31,
   "metadata": {
    "execution": {
     "iopub.execute_input": "2024-03-02T07:32:24.352605Z",
     "iopub.status.busy": "2024-03-02T07:32:24.351772Z",
     "iopub.status.idle": "2024-03-02T07:32:24.363835Z",
     "shell.execute_reply": "2024-03-02T07:32:24.362557Z",
     "shell.execute_reply.started": "2024-03-02T07:32:24.352555Z"
    }
   },
   "outputs": [
    {
     "name": "stdout",
     "output_type": "stream",
     "text": [
      "4\n",
      "4\n"
     ]
    }
   ],
   "source": [
    "def hesapla(x):\n",
    "    result = x * x\n",
    "    return result\n",
    "\n",
    "sonuc = hesapla(2)\n",
    "print(sonuc)\n",
    "\n",
    "#Another way\n",
    "sonuc2 = lambda x: x*x\n",
    "print(sonuc2(2))"
   ]
  },
  {
   "cell_type": "code",
   "execution_count": 32,
   "metadata": {
    "execution": {
     "iopub.execute_input": "2024-03-02T07:32:24.366052Z",
     "iopub.status.busy": "2024-03-02T07:32:24.365617Z",
     "iopub.status.idle": "2024-03-02T07:32:24.374991Z",
     "shell.execute_reply": "2024-03-02T07:32:24.373848Z",
     "shell.execute_reply.started": "2024-03-02T07:32:24.366015Z"
    }
   },
   "outputs": [
    {
     "name": "stdout",
     "output_type": "stream",
     "text": [
      "{'halit': 27, 'anas': 26, 'Bara': 28}\n"
     ]
    }
   ],
   "source": [
    "dictionary = {\"halit\":27,\"anas\":26,\"Bara\":28}\n",
    "print(dictionary)"
   ]
  },
  {
   "cell_type": "code",
   "execution_count": 33,
   "metadata": {
    "execution": {
     "iopub.execute_input": "2024-03-02T07:32:24.376680Z",
     "iopub.status.busy": "2024-03-02T07:32:24.376218Z",
     "iopub.status.idle": "2024-03-02T07:32:24.389108Z",
     "shell.execute_reply": "2024-03-02T07:32:24.387879Z",
     "shell.execute_reply.started": "2024-03-02T07:32:24.376639Z"
    }
   },
   "outputs": [
    {
     "data": {
      "text/plain": [
       "dict"
      ]
     },
     "execution_count": 33,
     "metadata": {},
     "output_type": "execute_result"
    }
   ],
   "source": [
    "type(dictionary)"
   ]
  },
  {
   "cell_type": "code",
   "execution_count": 34,
   "metadata": {
    "execution": {
     "iopub.execute_input": "2024-03-02T07:32:24.390901Z",
     "iopub.status.busy": "2024-03-02T07:32:24.390462Z",
     "iopub.status.idle": "2024-03-02T07:32:24.403910Z",
     "shell.execute_reply": "2024-03-02T07:32:24.402680Z",
     "shell.execute_reply.started": "2024-03-02T07:32:24.390871Z"
    }
   },
   "outputs": [
    {
     "data": {
      "text/plain": [
       "dict_keys(['halit', 'anas', 'Bara'])"
      ]
     },
     "execution_count": 34,
     "metadata": {},
     "output_type": "execute_result"
    }
   ],
   "source": [
    "dictionary.keys()"
   ]
  },
  {
   "cell_type": "code",
   "execution_count": 35,
   "metadata": {
    "execution": {
     "iopub.execute_input": "2024-03-02T07:32:24.405730Z",
     "iopub.status.busy": "2024-03-02T07:32:24.405311Z",
     "iopub.status.idle": "2024-03-02T07:32:24.416899Z",
     "shell.execute_reply": "2024-03-02T07:32:24.415997Z",
     "shell.execute_reply.started": "2024-03-02T07:32:24.405700Z"
    }
   },
   "outputs": [
    {
     "data": {
      "text/plain": [
       "dict_values([27, 26, 28])"
      ]
     },
     "execution_count": 35,
     "metadata": {},
     "output_type": "execute_result"
    }
   ],
   "source": [
    "dictionary.values()"
   ]
  },
  {
   "cell_type": "code",
   "execution_count": 36,
   "metadata": {
    "execution": {
     "iopub.execute_input": "2024-03-02T07:32:24.418239Z",
     "iopub.status.busy": "2024-03-02T07:32:24.417897Z",
     "iopub.status.idle": "2024-03-02T07:32:24.429464Z",
     "shell.execute_reply": "2024-03-02T07:32:24.428363Z",
     "shell.execute_reply.started": "2024-03-02T07:32:24.418210Z"
    }
   },
   "outputs": [
    {
     "name": "stdout",
     "output_type": "stream",
     "text": [
      "The name is exist!\n"
     ]
    }
   ],
   "source": [
    "keys = dictionary.keys()\n",
    "if \"halit\" in keys:\n",
    "    print(\"The name is exist!\")\n",
    "else:\n",
    "    print(\"The name is not exist!\")"
   ]
  },
  {
   "cell_type": "code",
   "execution_count": 37,
   "metadata": {
    "execution": {
     "iopub.execute_input": "2024-03-02T07:32:24.431721Z",
     "iopub.status.busy": "2024-03-02T07:32:24.431334Z",
     "iopub.status.idle": "2024-03-02T07:32:24.443765Z",
     "shell.execute_reply": "2024-03-02T07:32:24.442633Z",
     "shell.execute_reply.started": "2024-03-02T07:32:24.431691Z"
    }
   },
   "outputs": [
    {
     "name": "stdout",
     "output_type": "stream",
     "text": [
      "The name is not exist!\n"
     ]
    }
   ],
   "source": [
    "keys = dictionary.keys()\n",
    "if \"tntn\" in keys:\n",
    "    print(\"The name is exist!\")\n",
    "else:\n",
    "    print(\"The name is not exist!\")"
   ]
  },
  {
   "cell_type": "code",
   "execution_count": null,
   "metadata": {},
   "outputs": [],
   "source": []
  }
 ],
 "metadata": {
  "kaggle": {
   "accelerator": "none",
   "dataSources": [],
   "dockerImageVersionId": 30646,
   "isGpuEnabled": false,
   "isInternetEnabled": false,
   "language": "python",
   "sourceType": "notebook"
  },
  "kernelspec": {
   "display_name": "Python 3 (ipykernel)",
   "language": "python",
   "name": "python3"
  },
  "language_info": {
   "codemirror_mode": {
    "name": "ipython",
    "version": 3
   },
   "file_extension": ".py",
   "mimetype": "text/x-python",
   "name": "python",
   "nbconvert_exporter": "python",
   "pygments_lexer": "ipython3",
   "version": "3.11.5"
  }
 },
 "nbformat": 4,
 "nbformat_minor": 4
}
