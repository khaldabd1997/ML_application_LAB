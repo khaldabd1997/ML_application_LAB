{
 "cells": [
  {
   "cell_type": "code",
   "execution_count": 1,
   "metadata": {
    "_cell_guid": "b1076dfc-b9ad-4769-8c92-a6c4dae69d19",
    "_uuid": "8f2839f25d086af736a60e9eeb907d3b93b6e0e5",
    "execution": {
     "iopub.execute_input": "2024-03-04T17:58:41.338811Z",
     "iopub.status.busy": "2024-03-04T17:58:41.338200Z",
     "iopub.status.idle": "2024-03-04T17:58:41.370253Z",
     "shell.execute_reply": "2024-03-04T17:58:41.369172Z",
     "shell.execute_reply.started": "2024-03-04T17:58:41.338768Z"
    }
   },
   "outputs": [],
   "source": [
    "import matplotlib.pyplot as plt\n",
    "import numpy as np\n",
    "data = np.random.randn(100)"
   ]
  },
  {
   "cell_type": "code",
   "execution_count": 2,
   "metadata": {
    "execution": {
     "iopub.execute_input": "2024-03-04T17:58:41.372272Z",
     "iopub.status.busy": "2024-03-04T17:58:41.371940Z",
     "iopub.status.idle": "2024-03-04T17:58:41.378857Z",
     "shell.execute_reply": "2024-03-04T17:58:41.378007Z",
     "shell.execute_reply.started": "2024-03-04T17:58:41.372244Z"
    }
   },
   "outputs": [
    {
     "name": "stdout",
     "output_type": "stream",
     "text": [
      "[1 2 3]\n"
     ]
    }
   ],
   "source": [
    "array = np.array([1,2,3])\n",
    "print(array)"
   ]
  },
  {
   "cell_type": "code",
   "execution_count": 3,
   "metadata": {
    "execution": {
     "iopub.execute_input": "2024-03-04T17:58:41.380683Z",
     "iopub.status.busy": "2024-03-04T17:58:41.379998Z",
     "iopub.status.idle": "2024-03-04T17:58:41.390267Z",
     "shell.execute_reply": "2024-03-04T17:58:41.389178Z",
     "shell.execute_reply.started": "2024-03-04T17:58:41.380649Z"
    }
   },
   "outputs": [
    {
     "data": {
      "text/plain": [
       "(3,)"
      ]
     },
     "execution_count": 3,
     "metadata": {},
     "output_type": "execute_result"
    }
   ],
   "source": [
    "array.shape"
   ]
  },
  {
   "cell_type": "code",
   "execution_count": 4,
   "metadata": {
    "execution": {
     "iopub.execute_input": "2024-03-04T17:58:41.393501Z",
     "iopub.status.busy": "2024-03-04T17:58:41.392715Z",
     "iopub.status.idle": "2024-03-04T17:58:41.399656Z",
     "shell.execute_reply": "2024-03-04T17:58:41.398657Z",
     "shell.execute_reply.started": "2024-03-04T17:58:41.393473Z"
    }
   },
   "outputs": [
    {
     "name": "stdout",
     "output_type": "stream",
     "text": [
      "Vector:  [ 1  2  3  4  5  6  7  8  9 10 11 12 13 14 15]\n",
      "Two Dinebsional Array: [[ 1  2  3  4  5]\n",
      " [ 6  7  8  9 10]\n",
      " [11 12 13 14 15]]\n"
     ]
    }
   ],
   "source": [
    "array2 = np.array([1,2,3,4,5,6,7,8,9,10,11,12,13,14,15])\n",
    "print(\"Vector: \",array2)\n",
    "a = array2.reshape(3,5)\n",
    "print(\"Two Dinebsional Array:\",a)"
   ]
  },
  {
   "cell_type": "code",
   "execution_count": 5,
   "metadata": {
    "execution": {
     "iopub.execute_input": "2024-03-04T17:58:41.401568Z",
     "iopub.status.busy": "2024-03-04T17:58:41.401114Z",
     "iopub.status.idle": "2024-03-04T17:58:41.407838Z",
     "shell.execute_reply": "2024-03-04T17:58:41.407153Z",
     "shell.execute_reply.started": "2024-03-04T17:58:41.401534Z"
    }
   },
   "outputs": [
    {
     "name": "stdout",
     "output_type": "stream",
     "text": [
      "Shape:  (3, 5)\n",
      "Dimension: 2\n",
      "Data Type:  int32\n",
      "Size:  15\n",
      "Type <class 'numpy.ndarray'>\n"
     ]
    }
   ],
   "source": [
    "print(\"Shape: \",a.shape) #(3, 5)\n",
    "print(\"Dimension:\",a.ndim)\n",
    "print(\"Data Type: \",a.dtype.name)\n",
    "print(\"Size: \",a.size)\n",
    "print(\"Type\",type(a))"
   ]
  },
  {
   "cell_type": "code",
   "execution_count": 6,
   "metadata": {
    "execution": {
     "iopub.execute_input": "2024-03-04T17:58:41.409343Z",
     "iopub.status.busy": "2024-03-04T17:58:41.408799Z",
     "iopub.status.idle": "2024-03-04T17:58:41.420910Z",
     "shell.execute_reply": "2024-03-04T17:58:41.420199Z",
     "shell.execute_reply.started": "2024-03-04T17:58:41.409318Z"
    }
   },
   "outputs": [
    {
     "name": "stdout",
     "output_type": "stream",
     "text": [
      "[5 7 9]\n",
      "[-3 -3 -3]\n",
      "[1 4 9]\n"
     ]
    }
   ],
   "source": [
    "x = np.array([1,2,3])\n",
    "y = np.array([4,5,6])\n",
    "\n",
    "print(x + y)\n",
    "print(x - y)\n",
    "print(x ** 2)"
   ]
  },
  {
   "cell_type": "code",
   "execution_count": 7,
   "metadata": {
    "execution": {
     "iopub.execute_input": "2024-03-04T17:58:41.422687Z",
     "iopub.status.busy": "2024-03-04T17:58:41.421905Z",
     "iopub.status.idle": "2024-03-04T17:58:41.431507Z",
     "shell.execute_reply": "2024-03-04T17:58:41.430580Z",
     "shell.execute_reply.started": "2024-03-04T17:58:41.422661Z"
    }
   },
   "outputs": [
    {
     "name": "stdout",
     "output_type": "stream",
     "text": [
      "[1 2 3]\n",
      "[5 2 3] [5 2 3] [5 2 3]\n"
     ]
    }
   ],
   "source": [
    "a = np.array([1,2,3])\n",
    "d = a.copy()\n",
    "print(d)\n",
    "b = a\n",
    "c = a\n",
    "b[0] = 5\n",
    "print(a,b,c)"
   ]
  },
  {
   "cell_type": "code",
   "execution_count": 8,
   "metadata": {
    "execution": {
     "iopub.execute_input": "2024-03-04T17:58:41.433234Z",
     "iopub.status.busy": "2024-03-04T17:58:41.432942Z",
     "iopub.status.idle": "2024-03-04T17:58:41.442377Z",
     "shell.execute_reply": "2024-03-04T17:58:41.441295Z",
     "shell.execute_reply.started": "2024-03-04T17:58:41.433210Z"
    }
   },
   "outputs": [
    {
     "name": "stdout",
     "output_type": "stream",
     "text": [
      "1\n",
      "[1 2 3 4]\n"
     ]
    }
   ],
   "source": [
    "a = np.array([1,2,3,4,5,6,7])\n",
    "print(a[0])\n",
    "print(a[0:4])\n"
   ]
  },
  {
   "cell_type": "code",
   "execution_count": 9,
   "metadata": {
    "execution": {
     "iopub.execute_input": "2024-03-04T17:58:41.444200Z",
     "iopub.status.busy": "2024-03-04T17:58:41.443660Z",
     "iopub.status.idle": "2024-03-04T17:58:41.451052Z",
     "shell.execute_reply": "2024-03-04T17:58:41.450115Z",
     "shell.execute_reply.started": "2024-03-04T17:58:41.444173Z"
    }
   },
   "outputs": [
    {
     "name": "stdout",
     "output_type": "stream",
     "text": [
      "[7 6 5 4 3 2 1]\n"
     ]
    }
   ],
   "source": [
    "reverse_array = a[::-1]\n",
    "print(reverse_array)"
   ]
  },
  {
   "cell_type": "code",
   "execution_count": 10,
   "metadata": {
    "execution": {
     "iopub.execute_input": "2024-03-04T17:58:41.453811Z",
     "iopub.status.busy": "2024-03-04T17:58:41.453536Z",
     "iopub.status.idle": "2024-03-04T17:58:41.461696Z",
     "shell.execute_reply": "2024-03-04T17:58:41.460896Z",
     "shell.execute_reply.started": "2024-03-04T17:58:41.453788Z"
    }
   },
   "outputs": [
    {
     "name": "stdout",
     "output_type": "stream",
     "text": [
      "[[ 1  2  3  4  5]\n",
      " [ 6  7  8  9 10]]\n",
      "7\n",
      "[2 7]\n",
      "[ 6  7  8  9 10]\n",
      "[7 8]\n",
      "[ 6  7  8  9 10]\n",
      "[ 5 10]\n"
     ]
    }
   ],
   "source": [
    "b = np.array([[1,2,3,4,5],[6,7,8,9,10]])\n",
    "print(b)\n",
    "print(b[1,1])\n",
    "print(b[:,1])\n",
    "print(b[1,:])\n",
    "print(b[1,1:3])\n",
    "print(b[-1,:])\n",
    "print(b[:,-1])"
   ]
  },
  {
   "cell_type": "code",
   "execution_count": 12,
   "metadata": {
    "execution": {
     "iopub.execute_input": "2024-03-04T18:57:59.981471Z",
     "iopub.status.busy": "2024-03-04T18:57:59.981085Z",
     "iopub.status.idle": "2024-03-04T18:58:00.275189Z",
     "shell.execute_reply": "2024-03-04T18:58:00.274182Z",
     "shell.execute_reply.started": "2024-03-04T18:57:59.981440Z"
    }
   },
   "outputs": [
    {
     "data": {
      "image/png": "[encoded data removed]",
      "text/plain": [
       "<Figure size 640x480 with 1 Axes>"
      ]
     },
     "metadata": {},
     "output_type": "display_data"
    }
   ],
   "source": [
    "plt.hist(data,bins = 30)\n",
    "plt.title(\"histogram - test\")\n",
    "plt.xlabel(\"Values\")\n",
    "plt.ylabel(\"Frequencies\")\n",
    "plt.show()"
   ]
  },
  {
   "cell_type": "code",
   "execution_count": 13,
   "metadata": {
    "execution": {
     "iopub.execute_input": "2024-03-04T18:58:05.504297Z",
     "iopub.status.busy": "2024-03-04T18:58:05.503928Z",
     "iopub.status.idle": "2024-03-04T18:58:05.619521Z",
     "shell.execute_reply": "2024-03-04T18:58:05.618276Z",
     "shell.execute_reply.started": "2024-03-04T18:58:05.504267Z"
    }
   },
   "outputs": [
    {
     "data": {
      "image/png": "[encoded data removed]",
      "text/plain": [
       "<Figure size 640x480 with 1 Axes>"
      ]
     },
     "metadata": {},
     "output_type": "display_data"
    }
   ],
   "source": [
    "sizes=[30,25,15,10,5,5]\n",
    "plt.pie(sizes)\n",
    "plt.title(\"Pie Chart - test\")\n",
    "plt.show()"
   ]
  },
  {
   "cell_type": "code",
   "execution_count": null,
   "metadata": {},
   "outputs": [],
   "source": []
  }
 ],
 "metadata": {
  "kaggle": {
   "accelerator": "none",
   "dataSources": [],
   "dockerImageVersionId": 30664,
   "isGpuEnabled": false,
   "isInternetEnabled": false,
   "language": "python",
   "sourceType": "notebook"
  },
  "kernelspec": {
   "display_name": "Python 3 (ipykernel)",
   "language": "python",
   "name": "python3"
  },
  "language_info": {
   "codemirror_mode": {
    "name": "ipython",
    "version": 3
   },
   "file_extension": ".py",
   "mimetype": "text/x-python",
   "name": "python",
   "nbconvert_exporter": "python",
   "pygments_lexer": "ipython3",
   "version": "3.11.5"
  }
 },
 "nbformat": 4,
 "nbformat_minor": 4
}
